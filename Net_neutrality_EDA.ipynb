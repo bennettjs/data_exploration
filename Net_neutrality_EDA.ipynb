{
 "cells": [
  {
   "cell_type": "markdown",
   "metadata": {},
   "source": [
    "## Net Neutrality Contributions\n",
    "We'll be exploring a data set on our representatives, their voting position on Net Neutrality, and contributions they've received from telecoms. A few initial questions we'll explore:\n",
    "+ How much money has each party received?\n",
    "+ How are votes distributed by political party?\n",
    "+ Which position sees the most contributions?\n",
    "+ How representatives from same states paid? Similar regardless of voting position?\n",
    "+ How much have the sponsors of the bill received?\n",
    "\n",
    "\n",
    "net neutrality resolution: https://www.congress.gov/bill/115th-congress/senate-joint-resolution/34\n",
    "\n",
    "data source: https://www.kaggle.com/theriley106/net-neutrality-accountability/data"
   ]
  },
  {
   "cell_type": "code",
   "execution_count": 39,
   "metadata": {
    "collapsed": true
   },
   "outputs": [],
   "source": [
    "import pandas as pd\n",
    "import seaborn as sns\n",
    "import matplotlib.pyplot as plt\n",
    "from locale import currency # for pretty currency conversions"
   ]
  },
  {
   "cell_type": "code",
   "execution_count": 3,
   "metadata": {
    "collapsed": true
   },
   "outputs": [],
   "source": [
    "nn = pd.read_json(\"nnDataSet.json\")\n",
    "nn = nn.transpose() # Each row is a representative."
   ]
  },
  {
   "cell_type": "markdown",
   "metadata": {},
   "source": [
    "## Data overview:"
   ]
  },
  {
   "cell_type": "code",
   "execution_count": 4,
   "metadata": {},
   "outputs": [
    {
     "name": "stdout",
     "output_type": "stream",
     "text": [
      "<class 'pandas.core.frame.DataFrame'>\n",
      "Index: 535 entries, Adam Kinzinger to Zoe Lofgren\n",
      "Data columns (total 5 columns):\n",
      "Contributions    535 non-null object\n",
      "Party            535 non-null object\n",
      "Position         535 non-null object\n",
      "State            535 non-null object\n",
      "Vote             535 non-null object\n",
      "dtypes: object(5)\n",
      "memory usage: 45.1+ KB\n"
     ]
    }
   ],
   "source": [
    "nn.info()"
   ]
  },
  {
   "cell_type": "code",
   "execution_count": 5,
   "metadata": {},
   "outputs": [
    {
     "data": {
      "text/html": [
       "<div>\n",
       "<style>\n",
       "    .dataframe thead tr:only-child th {\n",
       "        text-align: right;\n",
       "    }\n",
       "\n",
       "    .dataframe thead th {\n",
       "        text-align: left;\n",
       "    }\n",
       "\n",
       "    .dataframe tbody tr th {\n",
       "        vertical-align: top;\n",
       "    }\n",
       "</style>\n",
       "<table border=\"1\" class=\"dataframe\">\n",
       "  <thead>\n",
       "    <tr style=\"text-align: right;\">\n",
       "      <th></th>\n",
       "      <th>Contributions</th>\n",
       "      <th>Party</th>\n",
       "      <th>Position</th>\n",
       "      <th>State</th>\n",
       "      <th>Vote</th>\n",
       "    </tr>\n",
       "  </thead>\n",
       "  <tbody>\n",
       "    <tr>\n",
       "      <th>Adam Kinzinger</th>\n",
       "      <td>$383,383</td>\n",
       "      <td>Republican</td>\n",
       "      <td>House of Representatives</td>\n",
       "      <td>IL</td>\n",
       "      <td>Yes</td>\n",
       "    </tr>\n",
       "    <tr>\n",
       "      <th>Adam Schiff</th>\n",
       "      <td>$221,824</td>\n",
       "      <td>Democrat</td>\n",
       "      <td>House of Representatives</td>\n",
       "      <td>CA</td>\n",
       "      <td>No</td>\n",
       "    </tr>\n",
       "    <tr>\n",
       "      <th>Adam Smith</th>\n",
       "      <td>$186,158</td>\n",
       "      <td>Democrat</td>\n",
       "      <td>House of Representatives</td>\n",
       "      <td>WA</td>\n",
       "      <td>No</td>\n",
       "    </tr>\n",
       "    <tr>\n",
       "      <th>Adrian Smith</th>\n",
       "      <td>$165,834</td>\n",
       "      <td>Republican</td>\n",
       "      <td>House of Representatives</td>\n",
       "      <td>NE</td>\n",
       "      <td>Yes</td>\n",
       "    </tr>\n",
       "    <tr>\n",
       "      <th>Adriano Espaillat</th>\n",
       "      <td>$13,300</td>\n",
       "      <td>Democrat</td>\n",
       "      <td>House of Representatives</td>\n",
       "      <td>NY</td>\n",
       "      <td>No</td>\n",
       "    </tr>\n",
       "  </tbody>\n",
       "</table>\n",
       "</div>"
      ],
      "text/plain": [
       "                  Contributions       Party                  Position State  \\\n",
       "Adam Kinzinger         $383,383  Republican  House of Representatives    IL   \n",
       "Adam Schiff            $221,824    Democrat  House of Representatives    CA   \n",
       "Adam Smith             $186,158    Democrat  House of Representatives    WA   \n",
       "Adrian Smith           $165,834  Republican  House of Representatives    NE   \n",
       "Adriano Espaillat       $13,300    Democrat  House of Representatives    NY   \n",
       "\n",
       "                  Vote  \n",
       "Adam Kinzinger     Yes  \n",
       "Adam Schiff         No  \n",
       "Adam Smith          No  \n",
       "Adrian Smith       Yes  \n",
       "Adriano Espaillat   No  "
      ]
     },
     "execution_count": 5,
     "metadata": {},
     "output_type": "execute_result"
    }
   ],
   "source": [
    "nn.head()"
   ]
  },
  {
   "cell_type": "code",
   "execution_count": 61,
   "metadata": {},
   "outputs": [],
   "source": [
    "# The indexes are the representatives names. Let's add a column with those names so \n",
    "nn['Name'] = nn.index"
   ]
  },
  {
   "cell_type": "code",
   "execution_count": 62,
   "metadata": {},
   "outputs": [
    {
     "data": {
      "text/html": [
       "<div>\n",
       "<style>\n",
       "    .dataframe thead tr:only-child th {\n",
       "        text-align: right;\n",
       "    }\n",
       "\n",
       "    .dataframe thead th {\n",
       "        text-align: left;\n",
       "    }\n",
       "\n",
       "    .dataframe tbody tr th {\n",
       "        vertical-align: top;\n",
       "    }\n",
       "</style>\n",
       "<table border=\"1\" class=\"dataframe\">\n",
       "  <thead>\n",
       "    <tr style=\"text-align: right;\">\n",
       "      <th></th>\n",
       "      <th>Contributions</th>\n",
       "      <th>Party</th>\n",
       "      <th>Position</th>\n",
       "      <th>State</th>\n",
       "      <th>Vote</th>\n",
       "      <th>Name</th>\n",
       "    </tr>\n",
       "  </thead>\n",
       "  <tbody>\n",
       "    <tr>\n",
       "      <th>Adam Kinzinger</th>\n",
       "      <td>383383</td>\n",
       "      <td>Republican</td>\n",
       "      <td>House of Representatives</td>\n",
       "      <td>IL</td>\n",
       "      <td>Yes</td>\n",
       "      <td>Adam Kinzinger</td>\n",
       "    </tr>\n",
       "    <tr>\n",
       "      <th>Adam Schiff</th>\n",
       "      <td>221824</td>\n",
       "      <td>Democrat</td>\n",
       "      <td>House of Representatives</td>\n",
       "      <td>CA</td>\n",
       "      <td>No</td>\n",
       "      <td>Adam Schiff</td>\n",
       "    </tr>\n",
       "    <tr>\n",
       "      <th>Adam Smith</th>\n",
       "      <td>186158</td>\n",
       "      <td>Democrat</td>\n",
       "      <td>House of Representatives</td>\n",
       "      <td>WA</td>\n",
       "      <td>No</td>\n",
       "      <td>Adam Smith</td>\n",
       "    </tr>\n",
       "  </tbody>\n",
       "</table>\n",
       "</div>"
      ],
      "text/plain": [
       "                Contributions       Party                  Position State  \\\n",
       "Adam Kinzinger         383383  Republican  House of Representatives    IL   \n",
       "Adam Schiff            221824    Democrat  House of Representatives    CA   \n",
       "Adam Smith             186158    Democrat  House of Representatives    WA   \n",
       "\n",
       "               Vote            Name  \n",
       "Adam Kinzinger  Yes  Adam Kinzinger  \n",
       "Adam Schiff      No     Adam Schiff  \n",
       "Adam Smith       No      Adam Smith  "
      ]
     },
     "execution_count": 62,
     "metadata": {},
     "output_type": "execute_result"
    }
   ],
   "source": [
    "nn.head(3)"
   ]
  },
  {
   "cell_type": "code",
   "execution_count": 6,
   "metadata": {},
   "outputs": [
    {
     "data": {
      "text/html": [
       "<div>\n",
       "<style>\n",
       "    .dataframe thead tr:only-child th {\n",
       "        text-align: right;\n",
       "    }\n",
       "\n",
       "    .dataframe thead th {\n",
       "        text-align: left;\n",
       "    }\n",
       "\n",
       "    .dataframe tbody tr th {\n",
       "        vertical-align: top;\n",
       "    }\n",
       "</style>\n",
       "<table border=\"1\" class=\"dataframe\">\n",
       "  <thead>\n",
       "    <tr style=\"text-align: right;\">\n",
       "      <th></th>\n",
       "      <th>Contributions</th>\n",
       "      <th>Party</th>\n",
       "      <th>Position</th>\n",
       "      <th>State</th>\n",
       "      <th>Vote</th>\n",
       "    </tr>\n",
       "  </thead>\n",
       "  <tbody>\n",
       "    <tr>\n",
       "      <th>count</th>\n",
       "      <td>535</td>\n",
       "      <td>535</td>\n",
       "      <td>535</td>\n",
       "      <td>535</td>\n",
       "      <td>535</td>\n",
       "    </tr>\n",
       "    <tr>\n",
       "      <th>unique</th>\n",
       "      <td>509</td>\n",
       "      <td>3</td>\n",
       "      <td>2</td>\n",
       "      <td>50</td>\n",
       "      <td>3</td>\n",
       "    </tr>\n",
       "    <tr>\n",
       "      <th>top</th>\n",
       "      <td>$26,000</td>\n",
       "      <td>Republican</td>\n",
       "      <td>House of Representatives</td>\n",
       "      <td>CA</td>\n",
       "      <td>Yes</td>\n",
       "    </tr>\n",
       "    <tr>\n",
       "      <th>freq</th>\n",
       "      <td>3</td>\n",
       "      <td>293</td>\n",
       "      <td>435</td>\n",
       "      <td>56</td>\n",
       "      <td>221</td>\n",
       "    </tr>\n",
       "  </tbody>\n",
       "</table>\n",
       "</div>"
      ],
      "text/plain": [
       "       Contributions       Party                  Position State Vote\n",
       "count            535         535                       535   535  535\n",
       "unique           509           3                         2    50    3\n",
       "top          $26,000  Republican  House of Representatives    CA  Yes\n",
       "freq               3         293                       435    56  221"
      ]
     },
     "execution_count": 6,
     "metadata": {},
     "output_type": "execute_result"
    }
   ],
   "source": [
    "nn.describe()"
   ]
  },
  {
   "cell_type": "code",
   "execution_count": 7,
   "metadata": {
    "collapsed": true
   },
   "outputs": [],
   "source": [
    "# Remove $ from contributions and convert the string into an int. \n",
    "nn['Contributions'] = nn['Contributions'].replace({'\\$': '', ',': ''}, regex=True)\n",
    "nn['Contributions'] = pd.to_numeric(nn.Contributions)"
   ]
  },
  {
   "cell_type": "markdown",
   "metadata": {},
   "source": [
    "Now that the 'Contributions' field is an int, we can ask some numeric questions."
   ]
  },
  {
   "cell_type": "code",
   "execution_count": 56,
   "metadata": {},
   "outputs": [
    {
     "data": {
      "text/html": [
       "<div>\n",
       "<style>\n",
       "    .dataframe thead tr:only-child th {\n",
       "        text-align: right;\n",
       "    }\n",
       "\n",
       "    .dataframe thead th {\n",
       "        text-align: left;\n",
       "    }\n",
       "\n",
       "    .dataframe tbody tr th {\n",
       "        vertical-align: top;\n",
       "    }\n",
       "</style>\n",
       "<table border=\"1\" class=\"dataframe\">\n",
       "  <thead>\n",
       "    <tr style=\"text-align: right;\">\n",
       "      <th></th>\n",
       "      <th>Contributions</th>\n",
       "      <th>Party</th>\n",
       "      <th>Position</th>\n",
       "      <th>State</th>\n",
       "      <th>Vote</th>\n",
       "    </tr>\n",
       "  </thead>\n",
       "  <tbody>\n",
       "    <tr>\n",
       "      <th>Warren Davidson</th>\n",
       "      <td>15</td>\n",
       "      <td>Republican</td>\n",
       "      <td>House of Representatives</td>\n",
       "      <td>OH</td>\n",
       "      <td>No</td>\n",
       "    </tr>\n",
       "  </tbody>\n",
       "</table>\n",
       "</div>"
      ],
      "text/plain": [
       "                 Contributions       Party                  Position State  \\\n",
       "Warren Davidson             15  Republican  House of Representatives    OH   \n",
       "\n",
       "                Vote  \n",
       "Warren Davidson   No  "
      ]
     },
     "execution_count": 56,
     "metadata": {},
     "output_type": "execute_result"
    }
   ],
   "source": [
    "nn[nn['Contributions'] == nn.Contributions.min()]"
   ]
  },
  {
   "cell_type": "markdown",
   "metadata": {},
   "source": [
    "Ouch. Bad data or someone got hazed..."
   ]
  },
  {
   "cell_type": "markdown",
   "metadata": {},
   "source": [
    "## How much money has each party received?"
   ]
  },
  {
   "cell_type": "code",
   "execution_count": 44,
   "metadata": {},
   "outputs": [
    {
     "name": "stdout",
     "output_type": "stream",
     "text": [
      "Total contributions to Democrats:   $45,004,252 \n",
      "Total contributions to Republicans: $55,805,224\n"
     ]
    }
   ],
   "source": [
    "dems = nn[nn['Party'] == 'Democrat']\n",
    "reps = nn[nn['Party'] == 'Republican']\n",
    "d_money = dems['Contributions'].sum()\n",
    "r_money = reps['Contributions'].sum()\n",
    "print(\"Total contributions to Democrats:   ${:0,.0f} \\nTotal contributions to Republicans: ${:0,.0f}\".format(d_money, r_money))"
   ]
  },
  {
   "cell_type": "code",
   "execution_count": 49,
   "metadata": {},
   "outputs": [
    {
     "data": {
      "text/html": [
       "<div>\n",
       "<style>\n",
       "    .dataframe thead tr:only-child th {\n",
       "        text-align: right;\n",
       "    }\n",
       "\n",
       "    .dataframe thead th {\n",
       "        text-align: left;\n",
       "    }\n",
       "\n",
       "    .dataframe tbody tr th {\n",
       "        vertical-align: top;\n",
       "    }\n",
       "</style>\n",
       "<table border=\"1\" class=\"dataframe\">\n",
       "  <thead>\n",
       "    <tr>\n",
       "      <th></th>\n",
       "      <th colspan=\"8\" halign=\"left\">Contributions</th>\n",
       "    </tr>\n",
       "    <tr>\n",
       "      <th></th>\n",
       "      <th>count</th>\n",
       "      <th>mean</th>\n",
       "      <th>std</th>\n",
       "      <th>min</th>\n",
       "      <th>25%</th>\n",
       "      <th>50%</th>\n",
       "      <th>75%</th>\n",
       "      <th>max</th>\n",
       "    </tr>\n",
       "    <tr>\n",
       "      <th>Party</th>\n",
       "      <th></th>\n",
       "      <th></th>\n",
       "      <th></th>\n",
       "      <th></th>\n",
       "      <th></th>\n",
       "      <th></th>\n",
       "      <th></th>\n",
       "      <th></th>\n",
       "    </tr>\n",
       "  </thead>\n",
       "  <tbody>\n",
       "    <tr>\n",
       "      <th>Democrat</th>\n",
       "      <td>240.0</td>\n",
       "      <td>187517.716667</td>\n",
       "      <td>234236.759685</td>\n",
       "      <td>1040.0</td>\n",
       "      <td>51162.50</td>\n",
       "      <td>107645.0</td>\n",
       "      <td>225091.75</td>\n",
       "      <td>1692749.0</td>\n",
       "    </tr>\n",
       "    <tr>\n",
       "      <th>I</th>\n",
       "      <td>2.0</td>\n",
       "      <td>183461.500000</td>\n",
       "      <td>157630.364982</td>\n",
       "      <td>72000.0</td>\n",
       "      <td>127730.75</td>\n",
       "      <td>183461.5</td>\n",
       "      <td>239192.25</td>\n",
       "      <td>294923.0</td>\n",
       "    </tr>\n",
       "    <tr>\n",
       "      <th>Republican</th>\n",
       "      <td>293.0</td>\n",
       "      <td>190461.515358</td>\n",
       "      <td>278271.559957</td>\n",
       "      <td>15.0</td>\n",
       "      <td>36000.00</td>\n",
       "      <td>103600.0</td>\n",
       "      <td>220500.00</td>\n",
       "      <td>2554784.0</td>\n",
       "    </tr>\n",
       "  </tbody>\n",
       "</table>\n",
       "</div>"
      ],
      "text/plain": [
       "           Contributions                                                    \\\n",
       "                   count           mean            std      min        25%   \n",
       "Party                                                                        \n",
       "Democrat           240.0  187517.716667  234236.759685   1040.0   51162.50   \n",
       "I                    2.0  183461.500000  157630.364982  72000.0  127730.75   \n",
       "Republican         293.0  190461.515358  278271.559957     15.0   36000.00   \n",
       "\n",
       "                                            \n",
       "                 50%        75%        max  \n",
       "Party                                       \n",
       "Democrat    107645.0  225091.75  1692749.0  \n",
       "I           183461.5  239192.25   294923.0  \n",
       "Republican  103600.0  220500.00  2554784.0  "
      ]
     },
     "execution_count": 49,
     "metadata": {},
     "output_type": "execute_result"
    }
   ],
   "source": [
    "# Statistics are from the Contributions column as it's the only numeric one\n",
    "nn.groupby(['Party']).describe()"
   ]
  },
  {
   "cell_type": "code",
   "execution_count": 53,
   "metadata": {},
   "outputs": [
    {
     "data": {
      "image/png": "[encoded data removed]",
      "text/plain": [
       "<matplotlib.figure.Figure at 0x123eba780>"
      ]
     },
     "metadata": {},
     "output_type": "display_data"
    }
   ],
   "source": [
    "sns.boxplot(x=\"Party\", y=\"Contributions\", data=nn)\n",
    "plt.show()"
   ]
  },
  {
   "cell_type": "markdown",
   "metadata": {},
   "source": [
    "Big outlier in Republican party... Who is it?"
   ]
  },
  {
   "cell_type": "code",
   "execution_count": 55,
   "metadata": {},
   "outputs": [
    {
     "data": {
      "text/html": [
       "<div>\n",
       "<style>\n",
       "    .dataframe thead tr:only-child th {\n",
       "        text-align: right;\n",
       "    }\n",
       "\n",
       "    .dataframe thead th {\n",
       "        text-align: left;\n",
       "    }\n",
       "\n",
       "    .dataframe tbody tr th {\n",
       "        vertical-align: top;\n",
       "    }\n",
       "</style>\n",
       "<table border=\"1\" class=\"dataframe\">\n",
       "  <thead>\n",
       "    <tr style=\"text-align: right;\">\n",
       "      <th></th>\n",
       "      <th>Contributions</th>\n",
       "      <th>Party</th>\n",
       "      <th>Position</th>\n",
       "      <th>State</th>\n",
       "      <th>Vote</th>\n",
       "    </tr>\n",
       "  </thead>\n",
       "  <tbody>\n",
       "    <tr>\n",
       "      <th>John McCain</th>\n",
       "      <td>2554784</td>\n",
       "      <td>Republican</td>\n",
       "      <td>US Senate</td>\n",
       "      <td>AZ</td>\n",
       "      <td>Unknown</td>\n",
       "    </tr>\n",
       "  </tbody>\n",
       "</table>\n",
       "</div>"
      ],
      "text/plain": [
       "             Contributions       Party   Position State     Vote\n",
       "John McCain        2554784  Republican  US Senate    AZ  Unknown"
      ]
     },
     "execution_count": 55,
     "metadata": {},
     "output_type": "execute_result"
    }
   ],
   "source": [
    "nn[nn['Contributions'] == nn.Contributions.max()]"
   ]
  },
  {
   "cell_type": "markdown",
   "metadata": {},
   "source": [
    "+ Republican Party seeing about 10 million more than the Democratic Party. \n",
    "+ John McCain is a big outlier getting 2.5 million. Maybe he has more pull on a related sub committee? "
   ]
  },
  {
   "cell_type": "markdown",
   "metadata": {},
   "source": [
    "## Position by party:"
   ]
  },
  {
   "cell_type": "code",
   "execution_count": 54,
   "metadata": {},
   "outputs": [
    {
     "data": {
      "text/plain": [
       "Party       Vote   \n",
       "Democrat    No         182\n",
       "            Unknown     54\n",
       "            Yes          4\n",
       "I           Unknown      1\n",
       "            Yes          1\n",
       "Republican  No          17\n",
       "            Unknown     60\n",
       "            Yes        216\n",
       "dtype: int64"
      ]
     },
     "execution_count": 54,
     "metadata": {},
     "output_type": "execute_result"
    }
   ],
   "source": [
    "nn.groupby(['Party', 'Vote']).size()"
   ]
  },
  {
   "cell_type": "code",
   "execution_count": 79,
   "metadata": {},
   "outputs": [
    {
     "data": {
      "image/png": "[encoded data removed]",
      "text/plain": [
       "<matplotlib.figure.Figure at 0x11fddc4e0>"
      ]
     },
     "metadata": {},
     "output_type": "display_data"
    }
   ],
   "source": [
    "nn.groupby(['Party', 'Vote']).size().unstack().plot(kind='bar', subplots=True)\n",
    "plt.show()"
   ]
  },
  {
   "cell_type": "markdown",
   "metadata": {},
   "source": [
    "+ Republicans are primarily for the bill.\n",
    "+ Democrats mostly against the bill."
   ]
  },
  {
   "cell_type": "markdown",
   "metadata": {},
   "source": [
    "## Contributions by party"
   ]
  },
  {
   "cell_type": "code",
   "execution_count": 91,
   "metadata": {},
   "outputs": [
    {
     "data": {
      "image/png": "[encoded data removed]",
      "text/plain": [
       "<matplotlib.figure.Figure at 0x120ccd080>"
      ]
     },
     "metadata": {},
     "output_type": "display_data"
    }
   ],
   "source": [
    "fg = sns.factorplot(x='Vote', y='Contributions', \n",
    "                        col='Party', data=nn, kind='bar')\n",
    "fg.set_xlabels('')\n",
    "plt.show()"
   ]
  },
  {
   "cell_type": "markdown",
   "metadata": {},
   "source": [
    "+ In all the parties, the unknowns get the highest contributions. Playing hard to get?\n",
    "+ Democrats have a lower mean than Republicans. "
   ]
  },
  {
   "cell_type": "markdown",
   "metadata": {},
   "source": [
    "## Contributions by voting position:"
   ]
  },
  {
   "cell_type": "code",
   "execution_count": 47,
   "metadata": {},
   "outputs": [
    {
     "data": {
      "image/png": "[encoded data removed]",
      "text/plain": [
       "<matplotlib.figure.Figure at 0x11d2c5d68>"
      ]
     },
     "metadata": {},
     "output_type": "display_data"
    }
   ],
   "source": [
    "fg = sns.factorplot(x='Party', y='Contributions', \n",
    "                        col='Vote', data=nn, kind='bar')\n",
    "plt.show()"
   ]
  },
  {
   "cell_type": "markdown",
   "metadata": {},
   "source": [
    "+ Unknowns get the most in contributions. Followed by Republicans voting No. This is ineresting because the majority of Republicans vote Yes. "
   ]
  },
  {
   "cell_type": "markdown",
   "metadata": {},
   "source": [
    "## Breakdown by state and showing contributions to each representative in the state. Blues are yes votes, Greens are no, Red is undecided."
   ]
  },
  {
   "cell_type": "code",
   "execution_count": 52,
   "metadata": {
    "scrolled": true
   },
   "outputs": [
    {
     "data": {
      "image/png": "[encoded data removed]",
      "text/plain": [
       "<matplotlib.figure.Figure at 0x11ff94cc0>"
      ]
     },
     "metadata": {},
     "output_type": "display_data"
    }
   ],
   "source": [
    "fg = sns.factorplot(x='Party', y='Contributions', hue='Vote',\n",
    "                        col='State', data=nn, kind='bar')\n",
    "plt.show()"
   ]
  },
  {
   "cell_type": "markdown",
   "metadata": {},
   "source": [
    "+ Representatives with unknown voting position often receive the most in contributions. This is seen in the state breakdown as well as in the contributions by party and position."
   ]
  },
  {
   "cell_type": "markdown",
   "metadata": {},
   "source": [
    "## Cosponsors of the bill:"
   ]
  },
  {
   "cell_type": "code",
   "execution_count": 86,
   "metadata": {
    "collapsed": true
   },
   "outputs": [],
   "source": [
    "# Pulled from the bills site linked to at the beginning\n",
    "cosponsors = ['Ron Johnson', 'John Barrasso', 'Roy Blunt', 'John Boozman', 'Thad Cochran', 'John Cornyn', 'Tom Cotton',\n",
    "             'Ted Cruz', 'Deb Fischer', 'Orrin Hatch', 'Dean Heller', 'James Inhofe', 'Mike Lee', 'Rand Paul', 'Pat Roberts',\n",
    "             'Marco Rubio', 'Richard Shelby', 'Dan Sullivan', 'John Thune', 'Roger Wicker', 'Jerry Moran', 'Mitch McConnell',\n",
    "             'Mike Rounds']"
   ]
  },
  {
   "cell_type": "code",
   "execution_count": 79,
   "metadata": {},
   "outputs": [],
   "source": [
    "nn_cosponsors = nn.loc[cosponsors]"
   ]
  },
  {
   "cell_type": "code",
   "execution_count": 80,
   "metadata": {},
   "outputs": [
    {
     "data": {
      "text/html": [
       "<div>\n",
       "<style>\n",
       "    .dataframe thead tr:only-child th {\n",
       "        text-align: right;\n",
       "    }\n",
       "\n",
       "    .dataframe thead th {\n",
       "        text-align: left;\n",
       "    }\n",
       "\n",
       "    .dataframe tbody tr th {\n",
       "        vertical-align: top;\n",
       "    }\n",
       "</style>\n",
       "<table border=\"1\" class=\"dataframe\">\n",
       "  <thead>\n",
       "    <tr style=\"text-align: right;\">\n",
       "      <th></th>\n",
       "      <th>Contributions</th>\n",
       "      <th>Party</th>\n",
       "      <th>Position</th>\n",
       "      <th>State</th>\n",
       "      <th>Vote</th>\n",
       "      <th>Name</th>\n",
       "    </tr>\n",
       "  </thead>\n",
       "  <tbody>\n",
       "    <tr>\n",
       "      <th>Ron Johnson</th>\n",
       "      <td>242730</td>\n",
       "      <td>Republican</td>\n",
       "      <td>US Senate</td>\n",
       "      <td>LA</td>\n",
       "      <td>Yes</td>\n",
       "      <td>Ron Johnson</td>\n",
       "    </tr>\n",
       "    <tr>\n",
       "      <th>John Barrasso</th>\n",
       "      <td>311200</td>\n",
       "      <td>Republican</td>\n",
       "      <td>US Senate</td>\n",
       "      <td>WY</td>\n",
       "      <td>Unknown</td>\n",
       "      <td>John Barrasso</td>\n",
       "    </tr>\n",
       "    <tr>\n",
       "      <th>Roy Blunt</th>\n",
       "      <td>1283416</td>\n",
       "      <td>Republican</td>\n",
       "      <td>US Senate</td>\n",
       "      <td>DE</td>\n",
       "      <td>No</td>\n",
       "      <td>Roy Blunt</td>\n",
       "    </tr>\n",
       "    <tr>\n",
       "      <th>John Boozman</th>\n",
       "      <td>228050</td>\n",
       "      <td>Republican</td>\n",
       "      <td>US Senate</td>\n",
       "      <td>AR</td>\n",
       "      <td>Unknown</td>\n",
       "      <td>John Boozman</td>\n",
       "    </tr>\n",
       "    <tr>\n",
       "      <th>Thad Cochran</th>\n",
       "      <td>516280</td>\n",
       "      <td>Republican</td>\n",
       "      <td>US Senate</td>\n",
       "      <td>MS</td>\n",
       "      <td>Unknown</td>\n",
       "      <td>Thad Cochran</td>\n",
       "    </tr>\n",
       "    <tr>\n",
       "      <th>John Cornyn</th>\n",
       "      <td>622125</td>\n",
       "      <td>Republican</td>\n",
       "      <td>US Senate</td>\n",
       "      <td>TX</td>\n",
       "      <td>Unknown</td>\n",
       "      <td>John Cornyn</td>\n",
       "    </tr>\n",
       "    <tr>\n",
       "      <th>Tom Cotton</th>\n",
       "      <td>177660</td>\n",
       "      <td>Republican</td>\n",
       "      <td>US Senate</td>\n",
       "      <td>AR</td>\n",
       "      <td>Unknown</td>\n",
       "      <td>Tom Cotton</td>\n",
       "    </tr>\n",
       "    <tr>\n",
       "      <th>Ted Cruz</th>\n",
       "      <td>322505</td>\n",
       "      <td>Republican</td>\n",
       "      <td>US Senate</td>\n",
       "      <td>TX</td>\n",
       "      <td>Unknown</td>\n",
       "      <td>Ted Cruz</td>\n",
       "    </tr>\n",
       "    <tr>\n",
       "      <th>Deb Fischer</th>\n",
       "      <td>381550</td>\n",
       "      <td>Republican</td>\n",
       "      <td>US Senate</td>\n",
       "      <td>NE</td>\n",
       "      <td>Unknown</td>\n",
       "      <td>Deb Fischer</td>\n",
       "    </tr>\n",
       "    <tr>\n",
       "      <th>Orrin Hatch</th>\n",
       "      <td>677830</td>\n",
       "      <td>Republican</td>\n",
       "      <td>US Senate</td>\n",
       "      <td>UT</td>\n",
       "      <td>Unknown</td>\n",
       "      <td>Orrin Hatch</td>\n",
       "    </tr>\n",
       "    <tr>\n",
       "      <th>Dean Heller</th>\n",
       "      <td>440750</td>\n",
       "      <td>Republican</td>\n",
       "      <td>US Senate</td>\n",
       "      <td>NV</td>\n",
       "      <td>Unknown</td>\n",
       "      <td>Dean Heller</td>\n",
       "    </tr>\n",
       "    <tr>\n",
       "      <th>James Inhofe</th>\n",
       "      <td>231659</td>\n",
       "      <td>Republican</td>\n",
       "      <td>US Senate</td>\n",
       "      <td>OK</td>\n",
       "      <td>Unknown</td>\n",
       "      <td>James Inhofe</td>\n",
       "    </tr>\n",
       "    <tr>\n",
       "      <th>Mike Lee</th>\n",
       "      <td>256250</td>\n",
       "      <td>Republican</td>\n",
       "      <td>US Senate</td>\n",
       "      <td>NY</td>\n",
       "      <td>No</td>\n",
       "      <td>Mike Lee</td>\n",
       "    </tr>\n",
       "    <tr>\n",
       "      <th>Rand Paul</th>\n",
       "      <td>116278</td>\n",
       "      <td>Republican</td>\n",
       "      <td>US Senate</td>\n",
       "      <td>MI</td>\n",
       "      <td>Yes</td>\n",
       "      <td>Rand Paul</td>\n",
       "    </tr>\n",
       "    <tr>\n",
       "      <th>Pat Roberts</th>\n",
       "      <td>463350</td>\n",
       "      <td>Republican</td>\n",
       "      <td>US Senate</td>\n",
       "      <td>KS</td>\n",
       "      <td>Unknown</td>\n",
       "      <td>Pat Roberts</td>\n",
       "    </tr>\n",
       "    <tr>\n",
       "      <th>Marco Rubio</th>\n",
       "      <td>391679</td>\n",
       "      <td>Republican</td>\n",
       "      <td>US Senate</td>\n",
       "      <td>FL</td>\n",
       "      <td>Unknown</td>\n",
       "      <td>Marco Rubio</td>\n",
       "    </tr>\n",
       "    <tr>\n",
       "      <th>Richard Shelby</th>\n",
       "      <td>443610</td>\n",
       "      <td>Republican</td>\n",
       "      <td>US Senate</td>\n",
       "      <td>AL</td>\n",
       "      <td>Unknown</td>\n",
       "      <td>Richard Shelby</td>\n",
       "    </tr>\n",
       "    <tr>\n",
       "      <th>Dan Sullivan</th>\n",
       "      <td>123650</td>\n",
       "      <td>Republican</td>\n",
       "      <td>US Senate</td>\n",
       "      <td>AK</td>\n",
       "      <td>Unknown</td>\n",
       "      <td>Dan Sullivan</td>\n",
       "    </tr>\n",
       "    <tr>\n",
       "      <th>John Thune</th>\n",
       "      <td>928428</td>\n",
       "      <td>Republican</td>\n",
       "      <td>US Senate</td>\n",
       "      <td>SD</td>\n",
       "      <td>Unknown</td>\n",
       "      <td>John Thune</td>\n",
       "    </tr>\n",
       "    <tr>\n",
       "      <th>Roger Wicker</th>\n",
       "      <td>724850</td>\n",
       "      <td>Republican</td>\n",
       "      <td>US Senate</td>\n",
       "      <td>MS</td>\n",
       "      <td>Unknown</td>\n",
       "      <td>Roger Wicker</td>\n",
       "    </tr>\n",
       "    <tr>\n",
       "      <th>Jerry Moran</th>\n",
       "      <td>425850</td>\n",
       "      <td>Republican</td>\n",
       "      <td>US Senate</td>\n",
       "      <td>KS</td>\n",
       "      <td>Unknown</td>\n",
       "      <td>Jerry Moran</td>\n",
       "    </tr>\n",
       "    <tr>\n",
       "      <th>Mitch McConnell</th>\n",
       "      <td>1119163</td>\n",
       "      <td>Republican</td>\n",
       "      <td>US Senate</td>\n",
       "      <td>KY</td>\n",
       "      <td>Unknown</td>\n",
       "      <td>Mitch McConnell</td>\n",
       "    </tr>\n",
       "    <tr>\n",
       "      <th>Mike Rounds</th>\n",
       "      <td>120898</td>\n",
       "      <td>Republican</td>\n",
       "      <td>US Senate</td>\n",
       "      <td>SD</td>\n",
       "      <td>Unknown</td>\n",
       "      <td>Mike Rounds</td>\n",
       "    </tr>\n",
       "  </tbody>\n",
       "</table>\n",
       "</div>"
      ],
      "text/plain": [
       "                 Contributions       Party   Position State     Vote  \\\n",
       "Ron Johnson             242730  Republican  US Senate    LA      Yes   \n",
       "John Barrasso           311200  Republican  US Senate    WY  Unknown   \n",
       "Roy Blunt              1283416  Republican  US Senate    DE       No   \n",
       "John Boozman            228050  Republican  US Senate    AR  Unknown   \n",
       "Thad Cochran            516280  Republican  US Senate    MS  Unknown   \n",
       "John Cornyn             622125  Republican  US Senate    TX  Unknown   \n",
       "Tom Cotton              177660  Republican  US Senate    AR  Unknown   \n",
       "Ted Cruz                322505  Republican  US Senate    TX  Unknown   \n",
       "Deb Fischer             381550  Republican  US Senate    NE  Unknown   \n",
       "Orrin Hatch             677830  Republican  US Senate    UT  Unknown   \n",
       "Dean Heller             440750  Republican  US Senate    NV  Unknown   \n",
       "James Inhofe            231659  Republican  US Senate    OK  Unknown   \n",
       "Mike Lee                256250  Republican  US Senate    NY       No   \n",
       "Rand Paul               116278  Republican  US Senate    MI      Yes   \n",
       "Pat Roberts             463350  Republican  US Senate    KS  Unknown   \n",
       "Marco Rubio             391679  Republican  US Senate    FL  Unknown   \n",
       "Richard Shelby          443610  Republican  US Senate    AL  Unknown   \n",
       "Dan Sullivan            123650  Republican  US Senate    AK  Unknown   \n",
       "John Thune              928428  Republican  US Senate    SD  Unknown   \n",
       "Roger Wicker            724850  Republican  US Senate    MS  Unknown   \n",
       "Jerry Moran             425850  Republican  US Senate    KS  Unknown   \n",
       "Mitch McConnell        1119163  Republican  US Senate    KY  Unknown   \n",
       "Mike Rounds             120898  Republican  US Senate    SD  Unknown   \n",
       "\n",
       "                            Name  \n",
       "Ron Johnson          Ron Johnson  \n",
       "John Barrasso      John Barrasso  \n",
       "Roy Blunt              Roy Blunt  \n",
       "John Boozman        John Boozman  \n",
       "Thad Cochran        Thad Cochran  \n",
       "John Cornyn          John Cornyn  \n",
       "Tom Cotton            Tom Cotton  \n",
       "Ted Cruz                Ted Cruz  \n",
       "Deb Fischer          Deb Fischer  \n",
       "Orrin Hatch          Orrin Hatch  \n",
       "Dean Heller          Dean Heller  \n",
       "James Inhofe        James Inhofe  \n",
       "Mike Lee                Mike Lee  \n",
       "Rand Paul              Rand Paul  \n",
       "Pat Roberts          Pat Roberts  \n",
       "Marco Rubio          Marco Rubio  \n",
       "Richard Shelby    Richard Shelby  \n",
       "Dan Sullivan        Dan Sullivan  \n",
       "John Thune            John Thune  \n",
       "Roger Wicker        Roger Wicker  \n",
       "Jerry Moran          Jerry Moran  \n",
       "Mitch McConnell  Mitch McConnell  \n",
       "Mike Rounds          Mike Rounds  "
      ]
     },
     "execution_count": 80,
     "metadata": {},
     "output_type": "execute_result"
    }
   ],
   "source": [
    "nn_cosponsors"
   ]
  },
  {
   "cell_type": "code",
   "execution_count": 81,
   "metadata": {},
   "outputs": [
    {
     "data": {
      "text/plain": [
       "458685.26086956525"
      ]
     },
     "execution_count": 81,
     "metadata": {},
     "output_type": "execute_result"
    }
   ],
   "source": [
    "nn_cosponsors['Contributions'].mean()"
   ]
  },
  {
   "cell_type": "code",
   "execution_count": 84,
   "metadata": {},
   "outputs": [
    {
     "data": {
      "text/plain": [
       "177005.15234375"
      ]
     },
     "execution_count": 84,
     "metadata": {},
     "output_type": "execute_result"
    }
   ],
   "source": [
    "# All the non cosponsors of the bill and their combined mean\n",
    "nn[~nn.index.isin(nn_cosponsors.index)].Contributions.mean()"
   ]
  },
  {
   "cell_type": "markdown",
   "metadata": {},
   "source": [
    "+ Cosponsors of the bill see a mean contribution of \\$458,685. \n",
    "+ Non cosponsors have a mean of \\$177,005.\n",
    "+ Cosponsors getting a mean 2.5 times more than non cosponsors of the bill.\n",
    "+ Almost all of the cosponsors have an unknown voting position.\n",
    "+ All cosponsors of the bill are Republican. "
   ]
  },
  {
   "cell_type": "markdown",
   "metadata": {},
   "source": [
    "## Conclusions and summary:\n",
    "The data here was taken from a Kaggle post (link in the intro) and the analysis was done after the net neutrality vote in December 2017. Due to this, we may be dealing with incomplete information in this analysis. With that being a possibility, we still see some interesting trends in the data.\n",
    "There's a clear split between the two parties as well as a disparity in the contributions to those parties. We saw cosponsors of the bill receiving 2.5 times the mean contribution value of non cosponsors. \n",
    "It'd be worth researching into John McCain's role in net neutrality as he was a huge outlier in conributions receiving over 2.5 million."
   ]
  },
  {
   "cell_type": "code",
   "execution_count": null,
   "metadata": {
    "collapsed": true
   },
   "outputs": [],
   "source": []
  }
 ],
 "metadata": {
  "kernelspec": {
   "display_name": "Python 3",
   "language": "python",
   "name": "python3"
  },
  "language_info": {
   "codemirror_mode": {
    "name": "ipython",
    "version": 3
   },
   "file_extension": ".py",
   "mimetype": "text/x-python",
   "name": "python",
   "nbconvert_exporter": "python",
   "pygments_lexer": "ipython3",
   "version": "3.6.1"
  }
 },
 "nbformat": 4,
 "nbformat_minor": 2
}
