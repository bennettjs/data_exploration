{
 "cells": [
  {
   "cell_type": "markdown",
   "metadata": {},
   "source": [
    "# Carto test. \n",
    "(https://gist.github.com/jorgesancha/2a8027e5a89a2ea1693d63a45afdd8b6)\n",
    "\n",
    "Goals:\n",
    "+ Read a large file.\n",
    "+ Count number of lines.\n",
    "+ Calculate averge value for 'tip_amount' field.\n",
    "\n",
    "All code was run on a slow 2011 Mac book air with 4gb memory and 1.7ghz i5 processor. "
   ]
  },
  {
   "cell_type": "markdown",
   "metadata": {},
   "source": [
    "First a baseline for comparison."
   ]
  },
  {
   "cell_type": "code",
   "execution_count": 1,
   "metadata": {},
   "outputs": [
    {
     "name": "stdout",
     "output_type": "stream",
     "text": [
      " 10906859 yellow_tripdata_2016-01.csv\n",
      "CPU times: user 235 ms, sys: 64.7 ms, total: 299 ms\n",
      "Wall time: 8.38 s\n"
     ]
    }
   ],
   "source": [
    "%time !wc -l yellow_tripdata_2016-01.csv"
   ]
  },
  {
   "cell_type": "markdown",
   "metadata": {},
   "source": [
    "So we have a base line of around 8 secs for iterating over the file for a line count. Let's take a quick look at the columns we're dealing with and find where tip_amount is."
   ]
  },
  {
   "cell_type": "code",
   "execution_count": 2,
   "metadata": {},
   "outputs": [
    {
     "data": {
      "text/plain": [
       "['VendorID,tpep_pickup_datetime,tpep_dropoff_datetime,passenger_count,trip_distance,pickup_longitude,pickup_latitude,RatecodeID,store_and_fwd_flag,dropoff_longitude,dropoff_latitude,payment_type,fare_amount,extra,mta_tax,tip_amount,tolls_amount,improvement_surcharge,total_amount']"
      ]
     },
     "execution_count": 2,
     "metadata": {},
     "output_type": "execute_result"
    }
   ],
   "source": [
    "header = !head -1 yellow_tripdata_2016-01.csv \n",
    "header"
   ]
  },
  {
   "cell_type": "code",
   "execution_count": 3,
   "metadata": {},
   "outputs": [
    {
     "data": {
      "text/plain": [
       "15"
      ]
     },
     "execution_count": 3,
     "metadata": {},
     "output_type": "execute_result"
    }
   ],
   "source": [
    "header[0].split(',').index('tip_amount') #column for tip_amount, 0 indexed"
   ]
  },
  {
   "cell_type": "markdown",
   "metadata": {},
   "source": [
    "Now we can do a quick check to compute the mean of the tip_amount field. Above we saw it was the 15th field, but that was zero indexed. We'll use awk to compute a quick value for the mean (we're calculating the sum of tip_amount and the number of lines. From that we return the mean)."
   ]
  },
  {
   "cell_type": "code",
   "execution_count": 4,
   "metadata": {},
   "outputs": [
    {
     "name": "stdout",
     "output_type": "stream",
     "text": [
      "10906859 1.75066\n",
      "CPU times: user 3.76 s, sys: 1.13 s, total: 4.89 s\n",
      "Wall time: 2min 51s\n"
     ]
    }
   ],
   "source": [
    "%time !awk -F ',' '{sum+=$16; lines++} END { print lines, sum/lines}' yellow_tripdata_2016-01.csv"
   ]
  },
  {
   "cell_type": "markdown",
   "metadata": {},
   "source": [
    "So this little awk one liner takes about 3 minutes to compute the number of lines and the mean for tip_amount.\n",
    "\n",
    "Can we do better with Python?\n",
    "\n",
    "Let's start with a simple function to return the line count."
   ]
  },
  {
   "cell_type": "code",
   "execution_count": 5,
   "metadata": {},
   "outputs": [],
   "source": [
    "def line_count(in_file):\n",
    "    line_count = 0\n",
    "    with open(in_file) as file_data:\n",
    "        for row in file_data:\n",
    "            line_count += 1\n",
    "        return line_count"
   ]
  },
  {
   "cell_type": "code",
   "execution_count": 6,
   "metadata": {},
   "outputs": [
    {
     "name": "stdout",
     "output_type": "stream",
     "text": [
      "CPU times: user 10.1 s, sys: 1.3 s, total: 11.4 s\n",
      "Wall time: 11.8 s\n"
     ]
    },
    {
     "data": {
      "text/plain": [
       "10906859"
      ]
     },
     "execution_count": 6,
     "metadata": {},
     "output_type": "execute_result"
    }
   ],
   "source": [
    "%time line_count(in_file='yellow_tripdata_2016-01.csv')"
   ]
  },
  {
   "cell_type": "markdown",
   "metadata": {},
   "source": [
    "So a little slower than wc, but let's add in a few more lines to handle calculating the mean and see how it handles."
   ]
  },
  {
   "cell_type": "code",
   "execution_count": 7,
   "metadata": {},
   "outputs": [],
   "source": [
    "def line_count_mean(in_file, column_index):\n",
    "    \"\"\"Reads a file and computes line count and mean of a column.\n",
    "    args:\n",
    "        file to read <string>, column index to compute average of <int>.\n",
    "    return:\n",
    "        <tuple>: line count and average of passed in column.\"\"\"\n",
    "    line_count = 0\n",
    "    column_sum = 0\n",
    "    with open(in_file, 'r') as file_data:\n",
    "        next(file_data) # skip header\n",
    "        for row in file_data:\n",
    "            line_count += 1\n",
    "            column_sum += float(row.split(',')[column_index])\n",
    "        \n",
    "        column_average = column_sum / line_count\n",
    "        return (line_count, round(column_average,2))\n",
    "            "
   ]
  },
  {
   "cell_type": "code",
   "execution_count": 8,
   "metadata": {},
   "outputs": [
    {
     "name": "stdout",
     "output_type": "stream",
     "text": [
      "(10906858, 1.75)\n"
     ]
    }
   ],
   "source": [
    "# First let's run it once and make sure it works:\n",
    "print(line_count_mean(in_file='yellow_tripdata_2016-01.csv', column_index=15))"
   ]
  },
  {
   "cell_type": "markdown",
   "metadata": {},
   "source": [
    "Looks good. Note, the line count is off by once since we skip the header."
   ]
  },
  {
   "cell_type": "code",
   "execution_count": 9,
   "metadata": {},
   "outputs": [
    {
     "name": "stdout",
     "output_type": "stream",
     "text": [
      "37.1 s ± 1.72 s per loop (mean ± std. dev. of 7 runs, 1 loop each)\n"
     ]
    }
   ],
   "source": [
    "%timeit line_count_mean(in_file='yellow_tripdata_2016-01.csv', column_index=15)"
   ]
  },
  {
   "cell_type": "markdown",
   "metadata": {},
   "source": [
    "Huge improvement over awk. Using the with/open syntax (context manager) takes care of the file management part. Also, since Python 3 the for loop there now uses a generator behind the scenes, so each line is lazily evaluated and then garbage collected (huge savings on memory).\n",
    "\n",
    "Now let's take a quick look at Pandas and see how it compares."
   ]
  },
  {
   "cell_type": "code",
   "execution_count": 10,
   "metadata": {},
   "outputs": [
    {
     "name": "stdout",
     "output_type": "stream",
     "text": [
      "CPU times: user 50.2 s, sys: 15.2 s, total: 1min 5s\n",
      "Wall time: 1min 11s\n"
     ]
    }
   ],
   "source": [
    "# Is pandas any faster than plain python3?\n",
    "import pandas as pd\n",
    "# importing the file into memory will one potential bottleneck.\n",
    "%time df = pd.read_csv('yellow_tripdata_2016-01.csv')"
   ]
  },
  {
   "cell_type": "code",
   "execution_count": 11,
   "metadata": {},
   "outputs": [
    {
     "data": {
      "text/plain": [
       "(10906858, 19)"
      ]
     },
     "execution_count": 11,
     "metadata": {},
     "output_type": "execute_result"
    }
   ],
   "source": [
    "df.shape #runs instantly"
   ]
  },
  {
   "cell_type": "code",
   "execution_count": 12,
   "metadata": {},
   "outputs": [
    {
     "name": "stdout",
     "output_type": "stream",
     "text": [
      "97 ms ± 19.5 ms per loop (mean ± std. dev. of 7 runs, 1 loop each)\n"
     ]
    }
   ],
   "source": [
    "%timeit df['tip_amount'].mean()"
   ]
  },
  {
   "cell_type": "markdown",
   "metadata": {},
   "source": [
    "Pandas is considerably faster, but that's beause it loads the data into memory first. That actually takes a far amount of time and is slower than our solution above. Although once in memory we can run many tests a lot faster.\n",
    "\n",
    "One more interesting thing to try would be to see if we can speed up pd.read_csv(). "
   ]
  },
  {
   "cell_type": "code",
   "execution_count": 13,
   "metadata": {},
   "outputs": [
    {
     "name": "stdout",
     "output_type": "stream",
     "text": [
      "CPU times: user 51 s, sys: 16.7 s, total: 1min 7s\n",
      "Wall time: 1min 25s\n"
     ]
    }
   ],
   "source": [
    "%time df_c = pd.read_csv('yellow_tripdata_2016-01.csv', engine='c')"
   ]
  },
  {
   "cell_type": "code",
   "execution_count": 14,
   "metadata": {},
   "outputs": [
    {
     "name": "stdout",
     "output_type": "stream",
     "text": [
      "104 ms ± 16.5 ms per loop (mean ± std. dev. of 7 runs, 1 loop each)\n"
     ]
    }
   ],
   "source": [
    "%timeit df_c['tip_amount'].mean()"
   ]
  },
  {
   "cell_type": "code",
   "execution_count": 15,
   "metadata": {},
   "outputs": [
    {
     "name": "stdout",
     "output_type": "stream",
     "text": [
      "CPU times: user 50.5 s, sys: 18.3 s, total: 1min 8s\n",
      "Wall time: 1min 34s\n"
     ]
    }
   ],
   "source": [
    "%time df_mm = pd.read_csv('yellow_tripdata_2016-01.csv', memory_map=True)"
   ]
  },
  {
   "cell_type": "code",
   "execution_count": 16,
   "metadata": {},
   "outputs": [
    {
     "name": "stdout",
     "output_type": "stream",
     "text": [
      "90.7 ms ± 8.48 ms per loop (mean ± std. dev. of 7 runs, 1 loop each)\n"
     ]
    }
   ],
   "source": [
    "%timeit df_mm['tip_amount'].mean()"
   ]
  },
  {
   "cell_type": "markdown",
   "metadata": {},
   "source": [
    "Slightly faster on computation, but still slow on I/O. "
   ]
  },
  {
   "cell_type": "markdown",
   "metadata": {},
   "source": [
    "# Conclusion:\n",
    "\n",
    "Streaming a file line by line and computing statistics as you go is the most efficient way to deal with large files. Using Pandas allows for more analysis to be done, but comes at the cost of loading the file into memory.\n",
    "\n",
    "A couple of further ideas:\n",
    "+ rewriting the looping and summing code in C. \n",
    "+ Consider storing the file data in a database, HDF,  or any non flat format that may speed up I/O."
   ]
  },
  {
   "cell_type": "code",
   "execution_count": 17,
   "metadata": {},
   "outputs": [],
   "source": [
    "def line_count_mean(in_file, column_index):\n",
    "    \"\"\"Reads a file and computes line count and mean of a column.\n",
    "    args:\n",
    "        file to read <string>, column index to compute average of <int>.\n",
    "    return:\n",
    "        <tuple>: line count and average of passed in column.\"\"\"\n",
    "    line_count = 0\n",
    "    column_sum = 0\n",
    "    with open(in_file, 'r') as file_data:\n",
    "        next(file_data) # skip header\n",
    "        for row in file_data:\n",
    "            line_count += 1\n",
    "            column_sum += float(row.split(',')[column_index])\n",
    "        \n",
    "        column_average = column_sum / line_count\n",
    "        return (line_count, round(column_average,2))"
   ]
  }
 ],
 "metadata": {
  "kernelspec": {
   "display_name": "Python 3",
   "language": "python",
   "name": "python3"
  },
  "language_info": {
   "codemirror_mode": {
    "name": "ipython",
    "version": 3
   },
   "file_extension": ".py",
   "mimetype": "text/x-python",
   "name": "python",
   "nbconvert_exporter": "python",
   "pygments_lexer": "ipython3",
   "version": "3.7.2"
  }
 },
 "nbformat": 4,
 "nbformat_minor": 2
}
